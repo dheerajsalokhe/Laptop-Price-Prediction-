{
  "nbformat": 4,
  "nbformat_minor": 0,
  "metadata": {
    "colab": {
      "provenance": []
    },
    "kernelspec": {
      "name": "python3",
      "display_name": "Python 3"
    },
    "language_info": {
      "name": "python"
    }
  },
  "cells": [
    {
      "cell_type": "code",
      "execution_count": 36,
      "metadata": {
        "colab": {
          "base_uri": "https://localhost:8080/"
        },
        "id": "dub_TbcfwLSi",
        "outputId": "2a90837d-5276-411a-98f8-9a324db4d84d"
      },
      "outputs": [
        {
          "output_type": "stream",
          "name": "stdout",
          "text": [
            "Requirement already satisfied: matplotlib in /usr/local/lib/python3.10/dist-packages (3.7.1)\n",
            "Requirement already satisfied: pandas in /usr/local/lib/python3.10/dist-packages (2.1.4)\n",
            "Requirement already satisfied: numpy in /usr/local/lib/python3.10/dist-packages (1.26.4)\n",
            "Requirement already satisfied: seaborn in /usr/local/lib/python3.10/dist-packages (0.13.1)\n",
            "Requirement already satisfied: scikit-learn in /usr/local/lib/python3.10/dist-packages (1.3.2)\n",
            "Requirement already satisfied: contourpy>=1.0.1 in /usr/local/lib/python3.10/dist-packages (from matplotlib) (1.3.0)\n",
            "Requirement already satisfied: cycler>=0.10 in /usr/local/lib/python3.10/dist-packages (from matplotlib) (0.12.1)\n",
            "Requirement already satisfied: fonttools>=4.22.0 in /usr/local/lib/python3.10/dist-packages (from matplotlib) (4.53.1)\n",
            "Requirement already satisfied: kiwisolver>=1.0.1 in /usr/local/lib/python3.10/dist-packages (from matplotlib) (1.4.7)\n",
            "Requirement already satisfied: packaging>=20.0 in /usr/local/lib/python3.10/dist-packages (from matplotlib) (24.1)\n",
            "Requirement already satisfied: pillow>=6.2.0 in /usr/local/lib/python3.10/dist-packages (from matplotlib) (10.4.0)\n",
            "Requirement already satisfied: pyparsing>=2.3.1 in /usr/local/lib/python3.10/dist-packages (from matplotlib) (3.1.4)\n",
            "Requirement already satisfied: python-dateutil>=2.7 in /usr/local/lib/python3.10/dist-packages (from matplotlib) (2.8.2)\n",
            "Requirement already satisfied: pytz>=2020.1 in /usr/local/lib/python3.10/dist-packages (from pandas) (2024.2)\n",
            "Requirement already satisfied: tzdata>=2022.1 in /usr/local/lib/python3.10/dist-packages (from pandas) (2024.1)\n",
            "Requirement already satisfied: scipy>=1.5.0 in /usr/local/lib/python3.10/dist-packages (from scikit-learn) (1.13.1)\n",
            "Requirement already satisfied: joblib>=1.1.1 in /usr/local/lib/python3.10/dist-packages (from scikit-learn) (1.4.2)\n",
            "Requirement already satisfied: threadpoolctl>=2.0.0 in /usr/local/lib/python3.10/dist-packages (from scikit-learn) (3.5.0)\n",
            "Requirement already satisfied: six>=1.5 in /usr/local/lib/python3.10/dist-packages (from python-dateutil>=2.7->matplotlib) (1.16.0)\n"
          ]
        }
      ],
      "source": [
        "!pip install matplotlib pandas numpy seaborn scikit-learn"
      ]
    },
    {
      "cell_type": "code",
      "source": [
        "import pandas as pd\n",
        "import numpy as np\n",
        "import matplotlib.pyplot as plt\n",
        "import seaborn as sns\n",
        "import sklearn as skl\n",
        "from sklearn.model_selection import train_test_split\n",
        "from sklearn.linear_model import LinearRegression\n",
        "from sklearn.metrics import mean_squared_error, r2_score\n",
        "from sklearn.preprocessing import StandardScaler\n",
        "from sklearn.preprocessing import LabelEncoder\n",
        "from sklearn.preprocessing import OneHotEncoder\n",
        "from sklearn.compose import ColumnTransformer\n",
        "from sklearn.pipeline import Pipeline\n",
        "from sklearn.impute import SimpleImputer\n",
        "from sklearn.ensemble import RandomForestRegressor\n",
        "from sklearn.metrics import mean_absolute_error\n",
        "from sklearn.model_selection import GridSearchCV\n",
        "from sklearn.model_selection import cross_val_score\n",
        "from sklearn.model_selection import RandomizedSearchCV"
      ],
      "metadata": {
        "id": "gyzzUIQhwSoI"
      },
      "execution_count": 37,
      "outputs": []
    },
    {
      "cell_type": "code",
      "source": [
        "data = pd.read_csv('Laptop-Price.csv')\n",
        "print(data.head())"
      ],
      "metadata": {
        "colab": {
          "base_uri": "https://localhost:8080/"
        },
        "id": "GsvqlwPFw1UP",
        "outputId": "2b6995b6-3ea2-48ac-dc07-71f47021d02b"
      },
      "execution_count": 38,
      "outputs": [
        {
          "output_type": "stream",
          "name": "stdout",
          "text": [
            "  Company          Product   TypeName  Inches             ScreenResolution  \\\n",
            "0      HP           250 G6   Notebook    15.6            Full HD 1920x1080   \n",
            "1    Acer         Aspire 3   Notebook    15.6                     1366x768   \n",
            "2    Asus  ZenBook UX430UN  Ultrabook    14.0            Full HD 1920x1080   \n",
            "3    Acer          Swift 3  Ultrabook    14.0  IPS Panel Full HD 1920x1080   \n",
            "4      HP           250 G6   Notebook    15.6                     1366x768   \n",
            "\n",
            "    Ram       OpSys Cpu Brand       Cpu Model Cpu Rate  SSD  HDD  \\\n",
            "0   8GB       No OS     Intel   Core i5 7200U   2.5GHz  256    0   \n",
            "1   4GB  Windows 10       AMD  A9-Series 9420     3GHz    0  500   \n",
            "2  16GB  Windows 10     Intel   Core i7 8550U   1.8GHz  512    0   \n",
            "3   8GB  Windows 10     Intel   Core i5 8250U   1.6GHz  256    0   \n",
            "4   4GB       No OS     Intel   Core i5 7200U   2.5GHz    0  500   \n",
            "\n",
            "   Flash Storage  Hybrid Gpu Brand         Gpu Model  Unnamed: 16  Price_euros  \n",
            "0              0       0     Intel   HD Graphics 620          NaN        575.0  \n",
            "1              0       0       AMD         Radeon R5          NaN        400.0  \n",
            "2              0       0    Nvidia     GeForce MX150          NaN       1495.0  \n",
            "3              0       0     Intel  UHD Graphics 620          NaN        770.0  \n",
            "4              0       0     Intel   HD Graphics 620          NaN        393.9  \n"
          ]
        }
      ]
    },
    {
      "cell_type": "code",
      "source": [
        "print(data.info())"
      ],
      "metadata": {
        "colab": {
          "base_uri": "https://localhost:8080/"
        },
        "id": "gDSmtwVVw8Q3",
        "outputId": "082372b6-8c8f-49e8-9dbe-c4f68d298cde"
      },
      "execution_count": 39,
      "outputs": [
        {
          "output_type": "stream",
          "name": "stdout",
          "text": [
            "<class 'pandas.core.frame.DataFrame'>\n",
            "RangeIndex: 1146 entries, 0 to 1145\n",
            "Data columns (total 18 columns):\n",
            " #   Column            Non-Null Count  Dtype  \n",
            "---  ------            --------------  -----  \n",
            " 0   Company           1146 non-null   object \n",
            " 1   Product           1146 non-null   object \n",
            " 2   TypeName          1146 non-null   object \n",
            " 3   Inches            1146 non-null   float64\n",
            " 4   ScreenResolution  1146 non-null   object \n",
            " 5   Ram               1146 non-null   object \n",
            " 6   OpSys             1146 non-null   object \n",
            " 7   Cpu Brand         1146 non-null   object \n",
            " 8   Cpu Model         1146 non-null   object \n",
            " 9   Cpu Rate          1146 non-null   object \n",
            " 10  SSD               1146 non-null   int64  \n",
            " 11  HDD               1146 non-null   int64  \n",
            " 12  Flash Storage     1146 non-null   int64  \n",
            " 13  Hybrid            1146 non-null   int64  \n",
            " 14  Gpu Brand         1146 non-null   object \n",
            " 15  Gpu Model         1146 non-null   object \n",
            " 16  Unnamed: 16       0 non-null      float64\n",
            " 17  Price_euros       1146 non-null   float64\n",
            "dtypes: float64(3), int64(4), object(11)\n",
            "memory usage: 161.3+ KB\n",
            "None\n"
          ]
        }
      ]
    },
    {
      "cell_type": "code",
      "source": [
        "# Check the shape of the DataFrame\n",
        "print(f\"Dataset contains {data.shape[0]} rows and {data.shape[1]} columns.\")\n",
        "\n",
        "# Check for missing values\n",
        "print(\"Missing values per column:\")\n",
        "print(data.isnull().sum())\n"
      ],
      "metadata": {
        "colab": {
          "base_uri": "https://localhost:8080/"
        },
        "id": "iTHLV5t3xK77",
        "outputId": "2ec2a2e6-8a4b-45cb-d14c-75b14750a6d8"
      },
      "execution_count": 40,
      "outputs": [
        {
          "output_type": "stream",
          "name": "stdout",
          "text": [
            "Dataset contains 1146 rows and 18 columns.\n",
            "Missing values per column:\n",
            "Company                0\n",
            "Product                0\n",
            "TypeName               0\n",
            "Inches                 0\n",
            "ScreenResolution       0\n",
            "Ram                    0\n",
            "OpSys                  0\n",
            "Cpu Brand              0\n",
            "Cpu Model              0\n",
            "Cpu Rate               0\n",
            "SSD                    0\n",
            "HDD                    0\n",
            "Flash Storage          0\n",
            "Hybrid                 0\n",
            "Gpu Brand              0\n",
            "Gpu Model              0\n",
            "Unnamed: 16         1146\n",
            "Price_euros            0\n",
            "dtype: int64\n"
          ]
        }
      ]
    },
    {
      "cell_type": "code",
      "source": [
        "print(data.describe())"
      ],
      "metadata": {
        "colab": {
          "base_uri": "https://localhost:8080/"
        },
        "id": "9z1Df6xRxQYY",
        "outputId": "4bd3247c-89ca-4200-ba41-0ee93b4be12a"
      },
      "execution_count": 41,
      "outputs": [
        {
          "output_type": "stream",
          "name": "stdout",
          "text": [
            "            Inches          SSD          HDD  Flash Storage       Hybrid  \\\n",
            "count  1146.000000  1146.000000  1146.000000    1146.000000  1146.000000   \n",
            "mean     15.151396   187.710297    46.347295       1.898778     0.539267   \n",
            "std       1.319303   160.313927   144.192738      26.275202    15.035060   \n",
            "min      11.300000     0.000000     0.000000       0.000000     0.000000   \n",
            "25%      14.000000     0.000000     0.000000       0.000000     0.000000   \n",
            "50%      15.600000   256.000000     0.000000       0.000000     0.000000   \n",
            "75%      15.600000   256.000000     1.000000       0.000000     0.000000   \n",
            "max      18.400000   512.000000   500.000000     512.000000   508.000000   \n",
            "\n",
            "       Unnamed: 16  Price_euros  \n",
            "count          0.0  1146.000000  \n",
            "mean           NaN  1204.876972  \n",
            "std            NaN   676.630847  \n",
            "min            NaN   265.000000  \n",
            "25%            NaN   699.750000  \n",
            "50%            NaN  1049.750000  \n",
            "75%            NaN  1535.000000  \n",
            "max            NaN  6099.000000  \n"
          ]
        }
      ]
    },
    {
      "cell_type": "code",
      "source": [
        "print(data.corr)"
      ],
      "metadata": {
        "colab": {
          "base_uri": "https://localhost:8080/"
        },
        "id": "TRMrmwbnxnpZ",
        "outputId": "6dbef50d-3a2e-45ac-d867-568b70646a35"
      },
      "execution_count": 42,
      "outputs": [
        {
          "output_type": "stream",
          "name": "stdout",
          "text": [
            "<bound method DataFrame.corr of      Company                                    Product            TypeName  \\\n",
            "0         HP                                     250 G6            Notebook   \n",
            "1       Acer                                   Aspire 3            Notebook   \n",
            "2       Asus                            ZenBook UX430UN           Ultrabook   \n",
            "3       Acer                                    Swift 3           Ultrabook   \n",
            "4         HP                                     250 G6            Notebook   \n",
            "...      ...                                        ...                 ...   \n",
            "1141    Dell                              Inspiron 3567            Notebook   \n",
            "1142    Asus  X556UJ-XO044T (i7-6500U/4GB/500GB/GeForce            Notebook   \n",
            "1143  Lenovo                             Yoga 500-14ISK  2 in 1 Convertible   \n",
            "1144  Lenovo                             Yoga 900-13ISK  2 in 1 Convertible   \n",
            "1145      HP        15-AC110nv (i7-6500U/6GB/1TB/Radeon            Notebook   \n",
            "\n",
            "      Inches                            ScreenResolution   Ram       OpSys  \\\n",
            "0       15.6                           Full HD 1920x1080   8GB       No OS   \n",
            "1       15.6                                    1366x768   4GB  Windows 10   \n",
            "2       14.0                           Full HD 1920x1080  16GB  Windows 10   \n",
            "3       14.0                 IPS Panel Full HD 1920x1080   8GB  Windows 10   \n",
            "4       15.6                                    1366x768   4GB       No OS   \n",
            "...      ...                                         ...   ...         ...   \n",
            "1141    15.6                                    1366x768   8GB       Linux   \n",
            "1142    15.6                                    1366x768   4GB  Windows 10   \n",
            "1143    14.0   IPS Panel Full HD / Touchscreen 1920x1080   4GB  Windows 10   \n",
            "1144    13.3  IPS Panel Quad HD+ / Touchscreen 3200x1800  16GB  Windows 10   \n",
            "1145    15.6                                    1366x768   6GB  Windows 10   \n",
            "\n",
            "     Cpu Brand       Cpu Model Cpu Rate  SSD  HDD  Flash Storage  Hybrid  \\\n",
            "0        Intel   Core i5 7200U   2.5GHz  256    0              0       0   \n",
            "1          AMD  A9-Series 9420     3GHz    0  500              0       0   \n",
            "2        Intel   Core i7 8550U   1.8GHz  512    0              0       0   \n",
            "3        Intel   Core i5 8250U   1.6GHz  256    0              0       0   \n",
            "4        Intel   Core i5 7200U   2.5GHz    0  500              0       0   \n",
            "...        ...             ...      ...  ...  ...            ...     ...   \n",
            "1141     Intel   Core i7 7500U   2.7GHz    0    1              0       0   \n",
            "1142     Intel   Core i7 6500U   2.5GHz    0  500              0       0   \n",
            "1143     Intel   Core i7 6500U   2.5GHz  128    0              0       0   \n",
            "1144     Intel   Core i7 6500U   2.5GHz  512    0              0       0   \n",
            "1145     Intel   Core i7 6500U   2.5GHz    0    1              0       0   \n",
            "\n",
            "     Gpu Brand         Gpu Model  Unnamed: 16  Price_euros  \n",
            "0        Intel   HD Graphics 620          NaN       575.00  \n",
            "1          AMD         Radeon R5          NaN       400.00  \n",
            "2       Nvidia     GeForce MX150          NaN      1495.00  \n",
            "3        Intel  UHD Graphics 620          NaN       770.00  \n",
            "4        Intel   HD Graphics 620          NaN       393.90  \n",
            "...        ...               ...          ...          ...  \n",
            "1141       AMD    Radeon R5 M430          NaN       805.99  \n",
            "1142    Nvidia      GeForce 920M          NaN       720.32  \n",
            "1143     Intel   HD Graphics 520          NaN       638.00  \n",
            "1144     Intel   HD Graphics 520          NaN      1499.00  \n",
            "1145       AMD    Radeon R5 M330          NaN       764.00  \n",
            "\n",
            "[1146 rows x 18 columns]>\n"
          ]
        }
      ]
    },
    {
      "cell_type": "code",
      "source": [
        "# Convert categorical columns to consistent case (lowercase)\n",
        "categorical_cols = ['Company', 'TypeName', 'OpSys', 'Cpu Brand', 'Gpu Brand']\n",
        "for col in categorical_cols:\n",
        "    data[col] = data[col].str.strip().str.lower()\n"
      ],
      "metadata": {
        "id": "1kzompUdxvul"
      },
      "execution_count": 43,
      "outputs": []
    },
    {
      "cell_type": "code",
      "source": [
        "from typing_extensions import dataclass_transform\n",
        "# Function to extract numeric value from strings\n",
        "def extract_numeric(x):\n",
        "    if isinstance(x, str):\n",
        "        return float(x.lower().replace('gb', '').replace('ghz', '').strip())\n",
        "    return x\n",
        "\n",
        "# Apply the function to relevant columns\n",
        "data['Ram'] = data['Ram'].apply(extract_numeric).astype(int)\n",
        "data['Cpu Rate'] = data['Cpu Rate'].apply(extract_numeric)\n",
        "data['SSD'] = data['SSD'].apply(extract_numeric).astype(int)\n",
        "data['HDD'] = data['HDD'].apply(extract_numeric).astype(int)\n",
        "data['Flash Storage'] = data['Flash Storage'].apply(extract_numeric).astype(int)\n"
      ],
      "metadata": {
        "id": "xN8_pNO5x7Ee"
      },
      "execution_count": 44,
      "outputs": []
    },
    {
      "cell_type": "code",
      "source": [
        "# Create binary features for Full HD and IPS\n",
        "data['Is_FullHD'] = data['ScreenResolution'].apply(lambda x: 1 if 'full hd' in x.lower() else 0)\n",
        "data['Is_IPS'] = data['ScreenResolution'].apply(lambda x: 1 if 'ips' in x.lower() else 0)\n",
        "\n",
        "# Drop the original 'ScreenResolution' column\n",
        "data.drop(['ScreenResolution'], axis=1, inplace=True)\n",
        "\n",
        "print(data.head())\n"
      ],
      "metadata": {
        "colab": {
          "base_uri": "https://localhost:8080/"
        },
        "id": "BfEyIHdXyHNf",
        "outputId": "f6732e7d-5a8b-4858-92bc-19f18109ee2f"
      },
      "execution_count": 45,
      "outputs": [
        {
          "output_type": "stream",
          "name": "stdout",
          "text": [
            "  Company          Product   TypeName  Inches  Ram       OpSys Cpu Brand  \\\n",
            "0      hp           250 G6   notebook    15.6    8       no os     intel   \n",
            "1    acer         Aspire 3   notebook    15.6    4  windows 10       amd   \n",
            "2    asus  ZenBook UX430UN  ultrabook    14.0   16  windows 10     intel   \n",
            "3    acer          Swift 3  ultrabook    14.0    8  windows 10     intel   \n",
            "4      hp           250 G6   notebook    15.6    4       no os     intel   \n",
            "\n",
            "        Cpu Model  Cpu Rate  SSD  HDD  Flash Storage  Hybrid Gpu Brand  \\\n",
            "0   Core i5 7200U       2.5  256    0              0       0     intel   \n",
            "1  A9-Series 9420       3.0    0  500              0       0       amd   \n",
            "2   Core i7 8550U       1.8  512    0              0       0    nvidia   \n",
            "3   Core i5 8250U       1.6  256    0              0       0     intel   \n",
            "4   Core i5 7200U       2.5    0  500              0       0     intel   \n",
            "\n",
            "          Gpu Model  Unnamed: 16  Price_euros  Is_FullHD  Is_IPS  \n",
            "0   HD Graphics 620          NaN        575.0          1       0  \n",
            "1         Radeon R5          NaN        400.0          0       0  \n",
            "2     GeForce MX150          NaN       1495.0          1       0  \n",
            "3  UHD Graphics 620          NaN        770.0          1       1  \n",
            "4   HD Graphics 620          NaN        393.9          0       0  \n"
          ]
        }
      ]
    },
    {
      "cell_type": "code",
      "source": [
        "# Drop 'Unnamed: 16', 'Hybrid', and 'Product' columns\n",
        "data.drop(['Unnamed: 16', 'Hybrid', 'Product'], axis=1, inplace=True)\n",
        "\n",
        "# Verify the columns have been dropped\n",
        "print(\"Remaining Columns:\")\n",
        "print(data.columns)\n"
      ],
      "metadata": {
        "colab": {
          "base_uri": "https://localhost:8080/"
        },
        "id": "oIEVD0u2ygiw",
        "outputId": "e7df035c-26f2-4a0b-c70f-84663e9f108d"
      },
      "execution_count": 46,
      "outputs": [
        {
          "output_type": "stream",
          "name": "stdout",
          "text": [
            "Remaining Columns:\n",
            "Index(['Company', 'TypeName', 'Inches', 'Ram', 'OpSys', 'Cpu Brand',\n",
            "       'Cpu Model', 'Cpu Rate', 'SSD', 'HDD', 'Flash Storage', 'Gpu Brand',\n",
            "       'Gpu Model', 'Price_euros', 'Is_FullHD', 'Is_IPS'],\n",
            "      dtype='object')\n"
          ]
        }
      ]
    },
    {
      "cell_type": "code",
      "source": [
        "# Convert categorical columns to consistent case (lowercase)\n",
        "categorical_cols = ['Company', 'TypeName', 'OpSys', 'Cpu Brand', 'Gpu Brand']\n",
        "for col in categorical_cols:\n",
        "    data[col] = data[col].str.strip().str.lower()\n"
      ],
      "metadata": {
        "id": "APiVpyq2yygR"
      },
      "execution_count": 47,
      "outputs": []
    },
    {
      "cell_type": "code",
      "source": [
        "\n",
        "# Initialize LabelEncoder\n",
        "le = LabelEncoder()\n",
        "\n",
        "# List of columns to encode\n",
        "label_encode_cols = ['Company', 'TypeName', 'OpSys', 'Cpu Brand', 'Gpu Brand']\n",
        "\n",
        "for col in label_encode_cols:\n",
        "    data[col] = le.fit_transform(data[col])\n",
        "\n",
        "# Display the first few rows to verify encoding\n",
        "print(data.head())\n"
      ],
      "metadata": {
        "colab": {
          "base_uri": "https://localhost:8080/"
        },
        "id": "ZYnHl1TJy5XT",
        "outputId": "82b35a74-ab13-41ed-b14c-545b69ab6f60"
      },
      "execution_count": 48,
      "outputs": [
        {
          "output_type": "stream",
          "name": "stdout",
          "text": [
            "   Company  TypeName  Inches  Ram  OpSys  Cpu Brand       Cpu Model  Cpu Rate  \\\n",
            "0        6         3    15.6    8      3          1   Core i5 7200U       2.5   \n",
            "1        0         3    15.6    4      4          0  A9-Series 9420       3.0   \n",
            "2        2         4    14.0   16      4          1   Core i7 8550U       1.8   \n",
            "3        0         4    14.0    8      4          1   Core i5 8250U       1.6   \n",
            "4        6         3    15.6    4      3          1   Core i5 7200U       2.5   \n",
            "\n",
            "   SSD  HDD  Flash Storage  Gpu Brand         Gpu Model  Price_euros  \\\n",
            "0  256    0              0          1   HD Graphics 620        575.0   \n",
            "1    0  500              0          0         Radeon R5        400.0   \n",
            "2  512    0              0          2     GeForce MX150       1495.0   \n",
            "3  256    0              0          1  UHD Graphics 620        770.0   \n",
            "4    0  500              0          1   HD Graphics 620        393.9   \n",
            "\n",
            "   Is_FullHD  Is_IPS  \n",
            "0          1       0  \n",
            "1          0       0  \n",
            "2          1       0  \n",
            "3          1       1  \n",
            "4          0       0  \n"
          ]
        }
      ]
    },
    {
      "cell_type": "code",
      "source": [
        "# Create 'Total_Storage' by summing SSD, HDD, and Flash Storage\n",
        "data['Total_Storage'] = data['SSD'] + data['HDD'] + data['Flash Storage']\n",
        "\n",
        "# Drop individual storage columns\n",
        "data.drop(['SSD', 'HDD', 'Flash Storage'], axis=1, inplace=True)\n",
        "\n",
        "# Display the first few rows to verify\n",
        "print(data.head())\n"
      ],
      "metadata": {
        "colab": {
          "base_uri": "https://localhost:8080/"
        },
        "id": "hw9aMpxjy_p0",
        "outputId": "ef8bec53-0fa8-4e79-905a-6c7b20ea3eaf"
      },
      "execution_count": 49,
      "outputs": [
        {
          "output_type": "stream",
          "name": "stdout",
          "text": [
            "   Company  TypeName  Inches  Ram  OpSys  Cpu Brand       Cpu Model  Cpu Rate  \\\n",
            "0        6         3    15.6    8      3          1   Core i5 7200U       2.5   \n",
            "1        0         3    15.6    4      4          0  A9-Series 9420       3.0   \n",
            "2        2         4    14.0   16      4          1   Core i7 8550U       1.8   \n",
            "3        0         4    14.0    8      4          1   Core i5 8250U       1.6   \n",
            "4        6         3    15.6    4      3          1   Core i5 7200U       2.5   \n",
            "\n",
            "   Gpu Brand         Gpu Model  Price_euros  Is_FullHD  Is_IPS  Total_Storage  \n",
            "0          1   HD Graphics 620        575.0          1       0            256  \n",
            "1          0         Radeon R5        400.0          0       0            500  \n",
            "2          2     GeForce MX150       1495.0          1       0            512  \n",
            "3          1  UHD Graphics 620        770.0          1       1            256  \n",
            "4          1   HD Graphics 620        393.9          0       0            500  \n"
          ]
        }
      ]
    },
    {
      "cell_type": "code",
      "source": [
        "# Display the current columns in the DataFrame\n",
        "print(\"Current Columns in the DataFrame:\")\n",
        "print(data.columns)\n"
      ],
      "metadata": {
        "colab": {
          "base_uri": "https://localhost:8080/"
        },
        "id": "Q57M7TID9S-0",
        "outputId": "9de818af-410b-4e27-e5e6-62f09401bbe9"
      },
      "execution_count": 61,
      "outputs": [
        {
          "output_type": "stream",
          "name": "stdout",
          "text": [
            "Current Columns in the DataFrame:\n",
            "Index(['Company', 'TypeName', 'Inches', 'Ram', 'OpSys', 'Cpu Brand',\n",
            "       'Cpu Rate', 'Gpu Brand', 'Price_euros', 'Is_FullHD', 'Is_IPS',\n",
            "       'Total_Storage'],\n",
            "      dtype='object')\n"
          ]
        }
      ]
    },
    {
      "cell_type": "code",
      "source": [
        "# Check data types of all columns\n",
        "print(\"Data Types of Each Column:\")\n",
        "print(data.dtypes)\n"
      ],
      "metadata": {
        "colab": {
          "base_uri": "https://localhost:8080/"
        },
        "id": "DHuNyXiC9eoY",
        "outputId": "375f5d12-9b62-4089-fc55-9a5e058918de"
      },
      "execution_count": 62,
      "outputs": [
        {
          "output_type": "stream",
          "name": "stdout",
          "text": [
            "Data Types of Each Column:\n",
            "Company            int64\n",
            "TypeName           int64\n",
            "Inches           float64\n",
            "Ram                int64\n",
            "OpSys              int64\n",
            "Cpu Brand          int64\n",
            "Cpu Rate         float64\n",
            "Gpu Brand          int64\n",
            "Price_euros      float64\n",
            "Is_FullHD          int64\n",
            "Is_IPS             int64\n",
            "Total_Storage      int64\n",
            "dtype: object\n"
          ]
        }
      ]
    },
    {
      "cell_type": "code",
      "source": [
        "\n",
        "# Define features (X) and target (y)\n",
        "X = data.drop(['Price_euros'], axis=1)\n",
        "y = data['Price_euros']\n",
        "\n",
        "# Split into training and testing sets (80% train, 20% test)\n",
        "X_train, X_test, y_train, y_test = train_test_split(\n",
        "    X, y, test_size=0.2, random_state=42\n",
        ")\n",
        "\n",
        "print(f\"Training set: {X_train.shape}, Testing set: {X_test.shape}\")\n"
      ],
      "metadata": {
        "colab": {
          "base_uri": "https://localhost:8080/"
        },
        "id": "HgMg9a7BzRZA",
        "outputId": "4206b66a-d246-4b8c-e0d3-ea07611162b3"
      },
      "execution_count": 50,
      "outputs": [
        {
          "output_type": "stream",
          "name": "stdout",
          "text": [
            "Training set: (916, 13), Testing set: (230, 13)\n"
          ]
        }
      ]
    },
    {
      "cell_type": "code",
      "source": [
        "# Drop 'Cpu Model' and 'Gpu Model' columns\n",
        "data.drop(['Cpu Model', 'Gpu Model'], axis=1, inplace=True)\n",
        "\n",
        "# Verify the columns have been dropped\n",
        "print(\"Columns after dropping 'Cpu Model' and 'Gpu Model':\")\n",
        "print(data.columns)\n"
      ],
      "metadata": {
        "colab": {
          "base_uri": "https://localhost:8080/"
        },
        "id": "3tk3nPr20Dyq",
        "outputId": "f7f9bdf2-d3db-40a8-abf6-0994031ea6aa"
      },
      "execution_count": 51,
      "outputs": [
        {
          "output_type": "stream",
          "name": "stdout",
          "text": [
            "Columns after dropping 'Cpu Model' and 'Gpu Model':\n",
            "Index(['Company', 'TypeName', 'Inches', 'Ram', 'OpSys', 'Cpu Brand',\n",
            "       'Cpu Rate', 'Gpu Brand', 'Price_euros', 'Is_FullHD', 'Is_IPS',\n",
            "       'Total_Storage'],\n",
            "      dtype='object')\n"
          ]
        }
      ]
    },
    {
      "cell_type": "code",
      "source": [
        "# Define features (X) and target (y)\n",
        "X = data.drop(['Price_euros'], axis=1)\n",
        "y = data['Price_euros']\n",
        "\n",
        "# Split into training and testing sets (80% train, 20% test)\n",
        "from sklearn.model_selection import train_test_split\n",
        "\n",
        "X_train, X_test, y_train, y_test = train_test_split(\n",
        "    X, y, test_size=0.2, random_state=42\n",
        ")\n",
        "\n",
        "print(f\"Training set: {X_train.shape}, Testing set: {X_test.shape}\")\n"
      ],
      "metadata": {
        "colab": {
          "base_uri": "https://localhost:8080/"
        },
        "id": "TjQAHrZd9lUD",
        "outputId": "307eca62-5a49-4835-de96-06118b0e74c7"
      },
      "execution_count": 63,
      "outputs": [
        {
          "output_type": "stream",
          "name": "stdout",
          "text": [
            "Training set: (916, 11), Testing set: (230, 11)\n"
          ]
        }
      ]
    },
    {
      "cell_type": "code",
      "source": [
        "print(data.head())"
      ],
      "metadata": {
        "colab": {
          "base_uri": "https://localhost:8080/"
        },
        "id": "fmT6K4NL0dXO",
        "outputId": "75e7be55-1b06-46fe-e516-f77fa289a39f"
      },
      "execution_count": 64,
      "outputs": [
        {
          "output_type": "stream",
          "name": "stdout",
          "text": [
            "   Company  TypeName  Inches  Ram  OpSys  Cpu Brand  Cpu Rate  Gpu Brand  \\\n",
            "0        6         3    15.6    8      3          1       2.5          1   \n",
            "1        0         3    15.6    4      4          0       3.0          0   \n",
            "2        2         4    14.0   16      4          1       1.8          2   \n",
            "3        0         4    14.0    8      4          1       1.6          1   \n",
            "4        6         3    15.6    4      3          1       2.5          1   \n",
            "\n",
            "   Price_euros  Is_FullHD  Is_IPS  Total_Storage  \n",
            "0        575.0          1       0            256  \n",
            "1        400.0          0       0            500  \n",
            "2       1495.0          1       0            512  \n",
            "3        770.0          1       1            256  \n",
            "4        393.9          0       0            500  \n"
          ]
        }
      ]
    },
    {
      "cell_type": "code",
      "source": [
        "\n",
        "\n",
        "# Initialize StandardScaler\n",
        "scaler = StandardScaler()\n",
        "\n",
        "# Fit the scaler on training data and transform both training and testing data\n",
        "X_train_scaled = scaler.fit_transform(X_train)\n",
        "X_test_scaled = scaler.transform(X_test)\n",
        "\n",
        "# Optional: Convert scaled data back to DataFrame for better readability\n",
        "X_train_scaled = pd.DataFrame(X_train_scaled, columns=X.columns)\n",
        "X_test_scaled = pd.DataFrame(X_test_scaled, columns=X.columns)\n",
        "\n",
        "# Verify the scaled data\n",
        "print(\"Scaled Training Data:\")\n",
        "print(X_train_scaled.head())\n"
      ],
      "metadata": {
        "colab": {
          "base_uri": "https://localhost:8080/"
        },
        "id": "9rWlDmZZzcam",
        "outputId": "2b500cef-b8db-46c9-e58e-3f66095d6f8f"
      },
      "execution_count": 66,
      "outputs": [
        {
          "output_type": "stream",
          "name": "stdout",
          "text": [
            "Scaled Training Data:\n",
            "    Company  TypeName    Inches       Ram     OpSys  Cpu Brand  Cpu Rate  \\\n",
            "0  0.624009  1.144168 -0.861554 -0.163959  0.126971   0.237732  0.725650   \n",
            "1 -1.006006 -1.223433  1.617792  4.616525  0.126971   0.237732  0.725650   \n",
            "2 -0.734337  1.144168 -1.387476 -0.163959  0.126971   0.237732 -1.472093   \n",
            "3 -1.549344  0.354968  0.340553 -0.960707  0.126971   0.237732  0.237262   \n",
            "4 -1.006006 -1.223433  0.340553 -0.163959  0.126971  -4.206409  1.458230   \n",
            "\n",
            "   Gpu Brand  Is_FullHD    Is_IPS  Total_Storage  \n",
            "0  -0.233206   0.643102  1.605654       1.611679  \n",
            "1   1.240013   0.643102  1.605654       1.611679  \n",
            "2  -0.233206   0.643102  1.605654       0.113636  \n",
            "3   1.240013   0.643102 -0.622799      -1.378556  \n",
            "4  -1.706425   0.643102 -0.622799      -1.378556  \n"
          ]
        }
      ]
    },
    {
      "cell_type": "code",
      "source": [
        "\n",
        "\n",
        "# Initialize the model\n",
        "model = RandomForestRegressor(n_estimators=100, random_state=42)\n",
        "\n",
        "# Train the model\n",
        "model.fit(X_train_scaled, y_train)\n",
        "\n",
        "# Make predictions on the test set\n",
        "y_pred = model.predict(X_test_scaled)\n"
      ],
      "metadata": {
        "id": "ly4I6jfZzlMi"
      },
      "execution_count": 67,
      "outputs": []
    },
    {
      "cell_type": "code",
      "source": [
        "\n",
        "# Calculate evaluation metrics\n",
        "mae = mean_absolute_error(y_test, y_pred)\n",
        "mse = mean_squared_error(y_test, y_pred)\n",
        "rmse = np.sqrt(mse)\n",
        "r2 = r2_score(y_test, y_pred)\n",
        "\n",
        "# Display the results\n",
        "print(f\"Mean Absolute Error (MAE): {mae:.2f} euros\")\n",
        "print(f\"Mean Squared Error (MSE): {mse:.2f} euros²\")\n",
        "print(f\"Root Mean Squared Error (RMSE): {rmse:.2f} euros\")\n",
        "print(f\"R² Score: {r2:.2f}\")\n"
      ],
      "metadata": {
        "colab": {
          "base_uri": "https://localhost:8080/"
        },
        "id": "SHcjssjXzqcL",
        "outputId": "c55dd48f-9583-44f2-ecc4-40dea6d45cdc"
      },
      "execution_count": 68,
      "outputs": [
        {
          "output_type": "stream",
          "name": "stdout",
          "text": [
            "Mean Absolute Error (MAE): 209.84 euros\n",
            "Mean Squared Error (MSE): 97441.18 euros²\n",
            "Root Mean Squared Error (RMSE): 312.16 euros\n",
            "R² Score: 0.80\n"
          ]
        }
      ]
    },
    {
      "cell_type": "code",
      "source": [
        "# Retrieve feature importances\n",
        "importances = model.feature_importances_\n",
        "features = X.columns\n",
        "indices = np.argsort(importances)\n",
        "\n",
        "# Plot feature importance\n",
        "plt.figure(figsize=(10, 8))\n",
        "plt.title('Feature Importance')\n",
        "plt.barh(range(len(indices)), importances[indices], align='center')\n",
        "plt.yticks(range(len(indices)), [features[i] for i in indices])\n",
        "plt.xlabel('Relative Importance')\n",
        "plt.tight_layout()\n",
        "plt.show()\n"
      ],
      "metadata": {
        "colab": {
          "base_uri": "https://localhost:8080/",
          "height": 807
        },
        "id": "Vn8AW-Jy042Q",
        "outputId": "04925989-3da1-4ab9-ecb9-c19fe7aadc1e"
      },
      "execution_count": 70,
      "outputs": [
        {
          "output_type": "display_data",
          "data": {
            "text/plain": [
              "<Figure size 1000x800 with 1 Axes>"
            ],
            "image/png": "[encoded data removed]"
          },
          "metadata": {}
        }
      ]
    },
    {
      "cell_type": "code",
      "source": [],
      "metadata": {
        "id": "-5T8vAtk97VI"
      },
      "execution_count": null,
      "outputs": []
    }
  ]
}